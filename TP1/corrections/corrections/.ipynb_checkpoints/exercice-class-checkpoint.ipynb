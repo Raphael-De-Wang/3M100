{
 "cells": [
  {
   "cell_type": "markdown",
   "metadata": {},
   "source": [
    "Je simule un exercice débile, on demande aux étudiants d'écrire une classe `Fifo`\n",
    "    \n",
    "qui implémente \n",
    "* un constructeur `Fifo()`\n",
    "* une méthode `incoming(obj)`\n",
    "* une méthode `outgoing()`\n",
    "\n",
    "qui rende simplement les objets dans le même ordre où ils ont été rangés"
   ]
  },
  {
   "cell_type": "markdown",
   "metadata": {},
   "source": [
    "L'étudiant est invité à écrire son code dans la class `Fifo`;\n",
    "\n",
    "On lui propose en arrivant une cellule vide comme ceci"
   ]
  },
  {
   "cell_type": "code",
   "execution_count": null,
   "metadata": {
    "collapsed": false
   },
   "outputs": [],
   "source": [
    "class Fifo(object):\n",
    "    def __init__(self):\n",
    "        pass\n",
    "    def incoming(self, obj):\n",
    "        pass\n",
    "    def outgoing(self):\n",
    "        pass"
   ]
  },
  {
   "cell_type": "markdown",
   "metadata": {},
   "source": [
    "Il la modifie, imaginons que ça donne cela"
   ]
  },
  {
   "cell_type": "code",
   "execution_count": null,
   "metadata": {
    "collapsed": false
   },
   "outputs": [],
   "source": [
    "# cette classe est cassée exprès ...\n",
    "class Fifo(object):\n",
    "    def __init__(self):\n",
    "        self.items = []\n",
    "    def incoming(self, obj):\n",
    "        self.items.append(obj)\n",
    "    def outgoing(self):\n",
    "        if len(self.items)%2 == 0:\n",
    "            raise Exception(\"even length ->{}\".format(self.items.pop()))\n",
    "        return self.items.pop()\n",
    "    # et en option pour le debug\n",
    "    def __repr__(self):\n",
    "        return \"<StudentFifo [{}]>\".format(\" \".join([\"{}\".format(i) for i in self.items]))"
   ]
  },
  {
   "cell_type": "markdown",
   "metadata": {},
   "source": [
    "Et voici la cellule pour corriger "
   ]
  },
  {
   "cell_type": "code",
   "execution_count": null,
   "metadata": {
    "collapsed": false
   },
   "outputs": [],
   "source": [
    "from corrections.ww_class import exo_fifo\n",
    "exo_fifo.correction(Fifo)"
   ]
  },
  {
   "cell_type": "code",
   "execution_count": null,
   "metadata": {
    "collapsed": false
   },
   "outputs": [],
   "source": [
    "exo_fifo.exemple()"
   ]
  },
  {
   "cell_type": "markdown",
   "metadata": {},
   "source": [
    "*********"
   ]
  }
 ],
 "metadata": {
  "anaconda-cloud": {},
  "kernelspec": {
   "display_name": "Python [default]",
   "language": "python",
   "name": "python2"
  },
  "language_info": {
   "codemirror_mode": {
    "name": "ipython",
    "version": 2
   },
   "file_extension": ".py",
   "mimetype": "text/x-python",
   "name": "python",
   "nbconvert_exporter": "python",
   "pygments_lexer": "ipython2",
   "version": "2.7.12"
  },
  "notebookname": "NO HEADING 1 found",
  "version": "1.0"
 },
 "nbformat": 4,
 "nbformat_minor": 0
}
